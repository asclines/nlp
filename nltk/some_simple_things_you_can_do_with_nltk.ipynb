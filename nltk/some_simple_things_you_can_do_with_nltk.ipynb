{
  "nbformat": 4,
  "nbformat_minor": 0,
  "metadata": {
    "colab": {
      "name": "Some simple things you can do with NLTK.ipynb",
      "provenance": [],
      "authorship_tag": "ABX9TyO3Zh+KxvA7IQwxH0b9T/NO",
      "include_colab_link": true
    },
    "kernelspec": {
      "name": "python3",
      "display_name": "Python 3"
    }
  },
  "cells": [
    {
      "cell_type": "markdown",
      "metadata": {
        "id": "view-in-github",
        "colab_type": "text"
      },
      "source": [
        "<a href=\"https://colab.research.google.com/github/asclines/nlp/blob/master/nltk/some_simple_things_you_can_do_with_nltk.ipynb\" target=\"_parent\"><img src=\"https://colab.research.google.com/assets/colab-badge.svg\" alt=\"Open In Colab\"/></a>"
      ]
    },
    {
      "cell_type": "markdown",
      "metadata": {
        "id": "3dMNkfpRoiDo",
        "colab_type": "text"
      },
      "source": [
        "Colab notebook implementation of the introduction on https://www.nltk.org/"
      ]
    },
    {
      "cell_type": "code",
      "metadata": {
        "id": "HB9UN6PXnywx",
        "colab_type": "code",
        "colab": {
          "base_uri": "https://localhost:8080/",
          "height": 238
        },
        "outputId": "bce5b652-3f20-48b4-b28b-ce91d2945673"
      },
      "source": [
        "\n",
        "import nltk\n",
        "nltk.download('punkt')\n",
        "nltk.download('averaged_perceptron_tagger')\n",
        "nltk.download('maxent_ne_chunker')\n",
        "nltk.download('words')\n",
        "nltk.download('treebank')\n",
        "\n",
        "from nltk.corpus import treebank\n"
      ],
      "execution_count": 1,
      "outputs": [
        {
          "output_type": "stream",
          "text": [
            "[nltk_data] Downloading package punkt to /root/nltk_data...\n",
            "[nltk_data]   Package punkt is already up-to-date!\n",
            "[nltk_data] Downloading package averaged_perceptron_tagger to\n",
            "[nltk_data]     /root/nltk_data...\n",
            "[nltk_data]   Package averaged_perceptron_tagger is already up-to-\n",
            "[nltk_data]       date!\n",
            "[nltk_data] Downloading package maxent_ne_chunker to\n",
            "[nltk_data]     /root/nltk_data...\n",
            "[nltk_data]   Package maxent_ne_chunker is already up-to-date!\n",
            "[nltk_data] Downloading package words to /root/nltk_data...\n",
            "[nltk_data]   Package words is already up-to-date!\n",
            "[nltk_data] Downloading package treebank to /root/nltk_data...\n",
            "[nltk_data]   Package treebank is already up-to-date!\n"
          ],
          "name": "stdout"
        }
      ]
    },
    {
      "cell_type": "markdown",
      "metadata": {
        "id": "js02xwfHoeW6",
        "colab_type": "text"
      },
      "source": [
        "Tokenize and tag some text:"
      ]
    },
    {
      "cell_type": "code",
      "metadata": {
        "id": "LG6d_l7HoBw-",
        "colab_type": "code",
        "colab": {
          "base_uri": "https://localhost:8080/",
          "height": 119
        },
        "outputId": "a83dbf26-452b-40c7-9e12-d4a399061414"
      },
      "source": [
        "sentence = \"\"\"At eight o'clock on Thursday morning\n",
        "... Arthur didn't feel very good.\"\"\"\n",
        "tokens = nltk.word_tokenize(sentence)\n",
        "tokens\n",
        "['At', 'eight', \"o'clock\", 'on', 'Thursday', 'morning',\n",
        "'Arthur', 'did', \"n't\", 'feel', 'very', 'good', '.']\n",
        "tagged = nltk.pos_tag(tokens)\n",
        "tagged[0:6]"
      ],
      "execution_count": 2,
      "outputs": [
        {
          "output_type": "execute_result",
          "data": {
            "text/plain": [
              "[('At', 'IN'),\n",
              " ('eight', 'CD'),\n",
              " (\"o'clock\", 'NN'),\n",
              " ('on', 'IN'),\n",
              " ('Thursday', 'NNP'),\n",
              " ('morning', 'NN')]"
            ]
          },
          "metadata": {
            "tags": []
          },
          "execution_count": 2
        }
      ]
    },
    {
      "cell_type": "markdown",
      "metadata": {
        "id": "UDTiPDDSo_Lq",
        "colab_type": "text"
      },
      "source": [
        "Identify named entities:\n",
        "\n"
      ]
    },
    {
      "cell_type": "code",
      "metadata": {
        "id": "mtKX6CxGo_mP",
        "colab_type": "code",
        "colab": {
          "base_uri": "https://localhost:8080/",
          "height": 255
        },
        "outputId": "780f333a-8f54-4e5a-8111-9657ba158b06"
      },
      "source": [
        "entities = nltk.chunk.ne_chunk(tagged)\n",
        "entities.pprint()\n"
      ],
      "execution_count": 3,
      "outputs": [
        {
          "output_type": "stream",
          "text": [
            "(S\n",
            "  At/IN\n",
            "  eight/CD\n",
            "  o'clock/NN\n",
            "  on/IN\n",
            "  Thursday/NNP\n",
            "  morning/NN\n",
            "  (PERSON Arthur/NNP)\n",
            "  did/VBD\n",
            "  n't/RB\n",
            "  feel/VB\n",
            "  very/RB\n",
            "  good/JJ\n",
            "  ./.)\n"
          ],
          "name": "stdout"
        }
      ]
    },
    {
      "cell_type": "markdown",
      "metadata": {
        "id": "YLd1XjnVqCh2",
        "colab_type": "text"
      },
      "source": [
        "Display a parse tree:\n",
        "\n"
      ]
    },
    {
      "cell_type": "code",
      "metadata": {
        "id": "ks3aoOkYqCYI",
        "colab_type": "code",
        "colab": {
          "base_uri": "https://localhost:8080/",
          "height": 255
        },
        "outputId": "07470453-bf9c-40c4-a698-43aee029bd03"
      },
      "source": [
        "t = treebank.parsed_sents('wsj_0001.mrg')[0]\n",
        "t.pretty_print()"
      ],
      "execution_count": 4,
      "outputs": [
        {
          "output_type": "stream",
          "text": [
            "                                                     S                                                                         \n",
            "                         ____________________________|_______________________________________________________________________   \n",
            "                        |                                               VP                                                   | \n",
            "                        |                        _______________________|___                                                 |  \n",
            "                      NP-SBJ                    |                           VP                                               | \n",
            "         _______________|___________________    |     ______________________|______________________________________          |  \n",
            "        |          |              ADJP      |   |    |        |                PP-CLR                              |         | \n",
            "        |          |           ____|____    |   |    |        |          ________|_________                        |         |  \n",
            "        NP         |          NP        |   |   |    |        NP        |                  NP                    NP-TMP      | \n",
            "   _____|____      |     _____|____     |   |   |    |     ___|____     |    ______________|__________        _____|_____    |  \n",
            " NNP        NNP    ,    CD        NNS   JJ  ,   MD   VB   DT       NN   IN  DT             JJ         NN    NNP          CD  . \n",
            "  |          |     |    |          |    |   |   |    |    |        |    |   |              |          |      |           |   |  \n",
            "Pierre     Vinken  ,    61       years old  ,  will join the     board  as  a         nonexecutive director Nov.         29  . \n",
            "\n"
          ],
          "name": "stdout"
        }
      ]
    }
  ]
}